{
 "cells": [
  {
   "cell_type": "code",
   "execution_count": 1,
   "metadata": {
    "ExecuteTime": {
     "end_time": "2025-04-20T11:33:19.011984700Z",
     "start_time": "2025-04-20T11:33:18.607449500Z"
    }
   },
   "outputs": [],
   "source": [
    "import os\n",
    "import json\n",
    "import pandas"
   ]
  },
  {
   "cell_type": "code",
   "execution_count": 2,
   "metadata": {},
   "outputs": [
    {
     "data": {
      "text/plain": [
       "'d:\\\\vd_replica\\\\Defect-detection'"
      ]
     },
     "execution_count": 2,
     "metadata": {},
     "output_type": "execute_result"
    }
   ],
   "source": [
    "os.getcwd()"
   ]
  },
  {
   "cell_type": "code",
   "execution_count": 5,
   "metadata": {
    "ExecuteTime": {
     "end_time": "2025-04-20T11:24:51.824725800Z",
     "start_time": "2025-04-20T11:24:51.821225400Z"
    }
   },
   "outputs": [],
   "source": [
    "train_dataset_file_path = (\".\\\\dataset_ffmpeg\\\\ffmpeg_train.jsonl\")\n",
    "train_dataset = pandas.read_json(train_dataset_file_path, lines=True)"
   ]
  },
  {
   "cell_type": "code",
   "execution_count": 7,
   "metadata": {},
   "outputs": [
    {
     "data": {
      "text/html": [
       "<div>\n",
       "<style scoped>\n",
       "    .dataframe tbody tr th:only-of-type {\n",
       "        vertical-align: middle;\n",
       "    }\n",
       "\n",
       "    .dataframe tbody tr th {\n",
       "        vertical-align: top;\n",
       "    }\n",
       "\n",
       "    .dataframe thead th {\n",
       "        text-align: right;\n",
       "    }\n",
       "</style>\n",
       "<table border=\"1\" class=\"dataframe\">\n",
       "  <thead>\n",
       "    <tr style=\"text-align: right;\">\n",
       "      <th></th>\n",
       "      <th>commit_id</th>\n",
       "      <th>target</th>\n",
       "      <th>func</th>\n",
       "      <th>idx</th>\n",
       "      <th>project</th>\n",
       "    </tr>\n",
       "  </thead>\n",
       "  <tbody>\n",
       "    <tr>\n",
       "      <th>0</th>\n",
       "      <td>000836c2a98e1c6a2867dd9db0371c137609acf01853</td>\n",
       "      <td>0</td>\n",
       "      <td>static int filter_frame(AVFilterLink *inlink, ...</td>\n",
       "      <td>0</td>\n",
       "      <td>ffmpeg</td>\n",
       "    </tr>\n",
       "  </tbody>\n",
       "</table>\n",
       "</div>"
      ],
      "text/plain": [
       "                                      commit_id  target  \\\n",
       "0  000836c2a98e1c6a2867dd9db0371c137609acf01853       0   \n",
       "\n",
       "                                                func  idx project  \n",
       "0  static int filter_frame(AVFilterLink *inlink, ...    0  ffmpeg  "
      ]
     },
     "execution_count": 7,
     "metadata": {},
     "output_type": "execute_result"
    }
   ],
   "source": [
    "train_dataset[train_dataset['commit_id'] == \"000836c2a98e1c6a2867dd9db0371c137609acf01853\"]"
   ]
  },
  {
   "cell_type": "code",
   "execution_count": 2,
   "metadata": {},
   "outputs": [],
   "source": [
    "ffmpeg_features_train_set_file_path = \".\\\\code\\\\saved_models_ffmpeg\\\\ffmpeg_trainset_features.jsonl\"\n",
    "ffmpeg_features_train_set = pandas.read_json(ffmpeg_features_train_set_file_path, lines=True)"
   ]
  },
  {
   "cell_type": "code",
   "execution_count": null,
   "metadata": {},
   "outputs": [
    {
     "data": {
      "text/plain": [
       "commit_id              000836c2a98e1c6a2867dd9db0371c137609acf01853\n",
       "target                                                            0\n",
       "idx                                                               0\n",
       "project                                                      ffmpeg\n",
       "feature_vector    [0.0940664709, 0.1900222003, -0.2117961496, -0...\n",
       "Name: 0, dtype: object"
      ]
     },
     "execution_count": 4,
     "metadata": {},
     "output_type": "execute_result"
    }
   ],
   "source": [
    "ffmpeg_features_train_set.iloc[0]"
   ]
  },
  {
   "cell_type": "code",
   "execution_count": 6,
   "metadata": {
    "ExecuteTime": {
     "end_time": "2025-04-20T11:35:47.425884200Z",
     "start_time": "2025-04-20T11:35:47.397386400Z"
    }
   },
   "outputs": [],
   "source": [
    "test_dataset = pandas.read_json(test_dataset_file_path, lines=True)\n",
    "train_dataset = pandas.read_json(train_dataset_file_path, lines=True)"
   ]
  },
  {
   "cell_type": "code",
   "execution_count": 7,
   "metadata": {},
   "outputs": [
    {
     "data": {
      "text/html": [
       "<div>\n",
       "<style scoped>\n",
       "    .dataframe tbody tr th:only-of-type {\n",
       "        vertical-align: middle;\n",
       "    }\n",
       "\n",
       "    .dataframe tbody tr th {\n",
       "        vertical-align: top;\n",
       "    }\n",
       "\n",
       "    .dataframe thead th {\n",
       "        text-align: right;\n",
       "    }\n",
       "</style>\n",
       "<table border=\"1\" class=\"dataframe\">\n",
       "  <thead>\n",
       "    <tr style=\"text-align: right;\">\n",
       "      <th></th>\n",
       "      <th>commit_id</th>\n",
       "      <th>target</th>\n",
       "      <th>func</th>\n",
       "      <th>idx</th>\n",
       "      <th>project</th>\n",
       "    </tr>\n",
       "  </thead>\n",
       "  <tbody>\n",
       "    <tr>\n",
       "      <th>0</th>\n",
       "      <td>001af703c6bff7cb8009db3ac882b8d929d67d9e17099</td>\n",
       "      <td>0</td>\n",
       "      <td>static av_cold int alac_decode_init(AVCodecCon...</td>\n",
       "      <td>7628</td>\n",
       "      <td>ffmpeg</td>\n",
       "    </tr>\n",
       "    <tr>\n",
       "      <th>1</th>\n",
       "      <td>0058584580b87feb47898e60e4b80c7f425882ad11041</td>\n",
       "      <td>0</td>\n",
       "      <td>static int ac3_parse_bsi(AC3DecodeContext *ctx...</td>\n",
       "      <td>7629</td>\n",
       "      <td>ffmpeg</td>\n",
       "    </tr>\n",
       "    <tr>\n",
       "      <th>2</th>\n",
       "      <td>0058584580b87feb47898e60e4b80c7f425882ad1870</td>\n",
       "      <td>0</td>\n",
       "      <td>static int _do_rematrixing(AC3DecodeContext *c...</td>\n",
       "      <td>7630</td>\n",
       "      <td>ffmpeg</td>\n",
       "    </tr>\n",
       "    <tr>\n",
       "      <th>3</th>\n",
       "      <td>0058584580b87feb47898e60e4b80c7f425882ad18780</td>\n",
       "      <td>0</td>\n",
       "      <td>static void get_downmix_coeffs(AC3DecodeContex...</td>\n",
       "      <td>7631</td>\n",
       "      <td>ffmpeg</td>\n",
       "    </tr>\n",
       "    <tr>\n",
       "      <th>4</th>\n",
       "      <td>0058584580b87feb47898e60e4b80c7f425882ad23705</td>\n",
       "      <td>0</td>\n",
       "      <td>static inline void downmix_3f_1r_to_mono(float...</td>\n",
       "      <td>7632</td>\n",
       "      <td>ffmpeg</td>\n",
       "    </tr>\n",
       "    <tr>\n",
       "      <th>...</th>\n",
       "      <td>...</td>\n",
       "      <td>...</td>\n",
       "      <td>...</td>\n",
       "      <td>...</td>\n",
       "      <td>...</td>\n",
       "    </tr>\n",
       "    <tr>\n",
       "      <th>1902</th>\n",
       "      <td>fed92adbb3fc6cbf735e3df9a2f7d0a2917fcfbd17508</td>\n",
       "      <td>1</td>\n",
       "      <td>int vp78_decode_mb_row_sliced(AVCodecContext *...</td>\n",
       "      <td>9530</td>\n",
       "      <td>ffmpeg</td>\n",
       "    </tr>\n",
       "    <tr>\n",
       "      <th>1903</th>\n",
       "      <td>fee7c42bf45f72d457fafaee536f054ce59e4ec516098</td>\n",
       "      <td>1</td>\n",
       "      <td>static int aac_decode_er_frame(AVCodecContext ...</td>\n",
       "      <td>9531</td>\n",
       "      <td>ffmpeg</td>\n",
       "    </tr>\n",
       "    <tr>\n",
       "      <th>1904</th>\n",
       "      <td>fee7c42bf45f72d457fafaee536f054ce59e4ec53103</td>\n",
       "      <td>1</td>\n",
       "      <td>static void spectral_to_sample(AACContext *ac)...</td>\n",
       "      <td>9532</td>\n",
       "      <td>ffmpeg</td>\n",
       "    </tr>\n",
       "    <tr>\n",
       "      <th>1905</th>\n",
       "      <td>ff3db937ef3aa30046a3936146f86ad48ee2ff9015112</td>\n",
       "      <td>1</td>\n",
       "      <td>static int asf_write_header1(AVFormatContext *...</td>\n",
       "      <td>9533</td>\n",
       "      <td>ffmpeg</td>\n",
       "    </tr>\n",
       "    <tr>\n",
       "      <th>1906</th>\n",
       "      <td>ffbd1d2b0002576ef0d976a41ff959c635373fdc17826</td>\n",
       "      <td>1</td>\n",
       "      <td>av_cold void ff_vp9dsp_init(VP9DSPContext *dsp...</td>\n",
       "      <td>9534</td>\n",
       "      <td>ffmpeg</td>\n",
       "    </tr>\n",
       "  </tbody>\n",
       "</table>\n",
       "<p>1907 rows × 5 columns</p>\n",
       "</div>"
      ],
      "text/plain": [
       "                                          commit_id  target  \\\n",
       "0     001af703c6bff7cb8009db3ac882b8d929d67d9e17099       0   \n",
       "1     0058584580b87feb47898e60e4b80c7f425882ad11041       0   \n",
       "2      0058584580b87feb47898e60e4b80c7f425882ad1870       0   \n",
       "3     0058584580b87feb47898e60e4b80c7f425882ad18780       0   \n",
       "4     0058584580b87feb47898e60e4b80c7f425882ad23705       0   \n",
       "...                                             ...     ...   \n",
       "1902  fed92adbb3fc6cbf735e3df9a2f7d0a2917fcfbd17508       1   \n",
       "1903  fee7c42bf45f72d457fafaee536f054ce59e4ec516098       1   \n",
       "1904   fee7c42bf45f72d457fafaee536f054ce59e4ec53103       1   \n",
       "1905  ff3db937ef3aa30046a3936146f86ad48ee2ff9015112       1   \n",
       "1906  ffbd1d2b0002576ef0d976a41ff959c635373fdc17826       1   \n",
       "\n",
       "                                                   func   idx project  \n",
       "0     static av_cold int alac_decode_init(AVCodecCon...  7628  ffmpeg  \n",
       "1     static int ac3_parse_bsi(AC3DecodeContext *ctx...  7629  ffmpeg  \n",
       "2     static int _do_rematrixing(AC3DecodeContext *c...  7630  ffmpeg  \n",
       "3     static void get_downmix_coeffs(AC3DecodeContex...  7631  ffmpeg  \n",
       "4     static inline void downmix_3f_1r_to_mono(float...  7632  ffmpeg  \n",
       "...                                                 ...   ...     ...  \n",
       "1902  int vp78_decode_mb_row_sliced(AVCodecContext *...  9530  ffmpeg  \n",
       "1903  static int aac_decode_er_frame(AVCodecContext ...  9531  ffmpeg  \n",
       "1904  static void spectral_to_sample(AACContext *ac)...  9532  ffmpeg  \n",
       "1905  static int asf_write_header1(AVFormatContext *...  9533  ffmpeg  \n",
       "1906  av_cold void ff_vp9dsp_init(VP9DSPContext *dsp...  9534  ffmpeg  \n",
       "\n",
       "[1907 rows x 5 columns]"
      ]
     },
     "execution_count": 7,
     "metadata": {},
     "output_type": "execute_result"
    }
   ],
   "source": [
    "test_dataset"
   ]
  },
  {
   "cell_type": "code",
   "execution_count": 11,
   "metadata": {},
   "outputs": [],
   "source": [
    "def deserialize_jsonl(file_path):\n",
    "    \"\"\"反序列化JSONL文件为Python对象列表\"\"\"\n",
    "    data = []\n",
    "    with open(file_path, 'r', encoding='utf-8') as f:\n",
    "        for line in f:\n",
    "            line = line.strip()  # 去除前后空白\n",
    "            if line:  # 跳过空行\n",
    "                try:\n",
    "                    data.append(json.loads(line))\n",
    "                except json.JSONDecodeError as e:\n",
    "                    print(f\"解析错误，跳过行: {line}\\n错误信息: {e}\")\n",
    "    return data"
   ]
  },
  {
   "cell_type": "code",
   "execution_count": 13,
   "metadata": {},
   "outputs": [],
   "source": [
    "data_and_label_of_all_files_path = \".\\\\dataset\\\\function.json\"\n",
    "data_and_label_of_test_set_in_jsonl = \".\\\\dataset\\\\test.jsonl\"\n",
    "data_and_label_of_test_set_in_json = deserialize_jsonl(data_and_label_of_test_set_in_jsonl)\n"
   ]
  },
  {
   "cell_type": "code",
   "execution_count": 16,
   "metadata": {},
   "outputs": [],
   "source": [
    "test_set = pandas.read_json(data_and_label_of_test_set_in_jsonl, lines=True)"
   ]
  },
  {
   "cell_type": "code",
   "execution_count": 17,
   "metadata": {},
   "outputs": [
    {
     "data": {
      "text/html": [
       "<div>\n",
       "<style scoped>\n",
       "    .dataframe tbody tr th:only-of-type {\n",
       "        vertical-align: middle;\n",
       "    }\n",
       "\n",
       "    .dataframe tbody tr th {\n",
       "        vertical-align: top;\n",
       "    }\n",
       "\n",
       "    .dataframe thead th {\n",
       "        text-align: right;\n",
       "    }\n",
       "</style>\n",
       "<table border=\"1\" class=\"dataframe\">\n",
       "  <thead>\n",
       "    <tr style=\"text-align: right;\">\n",
       "      <th></th>\n",
       "      <th>project</th>\n",
       "      <th>commit_id</th>\n",
       "      <th>target</th>\n",
       "      <th>func</th>\n",
       "      <th>idx</th>\n",
       "    </tr>\n",
       "  </thead>\n",
       "  <tbody>\n",
       "    <tr>\n",
       "      <th>0</th>\n",
       "      <td>FFmpeg</td>\n",
       "      <td>32bf6550cb9cc9f487a6722fe2bfc272a93c1065</td>\n",
       "      <td>0</td>\n",
       "      <td>int ff_get_wav_header(AVFormatContext *s, AVIO...</td>\n",
       "      <td>3</td>\n",
       "    </tr>\n",
       "    <tr>\n",
       "      <th>1</th>\n",
       "      <td>qemu</td>\n",
       "      <td>c0c24b95542bc1a4dc3fc6ea71475ae04fa69189</td>\n",
       "      <td>1</td>\n",
       "      <td>static int xen_9pfs_connect(struct XenDevice *...</td>\n",
       "      <td>12</td>\n",
       "    </tr>\n",
       "    <tr>\n",
       "      <th>2</th>\n",
       "      <td>FFmpeg</td>\n",
       "      <td>5ff998a233d759d0de83ea6f95c383d03d25d88e</td>\n",
       "      <td>1</td>\n",
       "      <td>static int subframe_count_exact(FlacEncodeCont...</td>\n",
       "      <td>35</td>\n",
       "    </tr>\n",
       "    <tr>\n",
       "      <th>3</th>\n",
       "      <td>qemu</td>\n",
       "      <td>24408a7d2b459bed3697367b81ada76518ca96ef</td>\n",
       "      <td>0</td>\n",
       "      <td>static void ppc_spapr_init(QEMUMachineInitArgs...</td>\n",
       "      <td>43</td>\n",
       "    </tr>\n",
       "    <tr>\n",
       "      <th>4</th>\n",
       "      <td>FFmpeg</td>\n",
       "      <td>68f593b48433842f3407586679fe07f3e5199ab9</td>\n",
       "      <td>0</td>\n",
       "      <td>static int mpeg1_decode_sequence(AVCodecContex...</td>\n",
       "      <td>60</td>\n",
       "    </tr>\n",
       "    <tr>\n",
       "      <th>...</th>\n",
       "      <td>...</td>\n",
       "      <td>...</td>\n",
       "      <td>...</td>\n",
       "      <td>...</td>\n",
       "      <td>...</td>\n",
       "    </tr>\n",
       "    <tr>\n",
       "      <th>2727</th>\n",
       "      <td>qemu</td>\n",
       "      <td>04088adbe0c5adca66adb6022723362ad90ed0fc</td>\n",
       "      <td>0</td>\n",
       "      <td>static void *mpc8544_load_device_tree(target_p...</td>\n",
       "      <td>27266</td>\n",
       "    </tr>\n",
       "    <tr>\n",
       "      <th>2728</th>\n",
       "      <td>FFmpeg</td>\n",
       "      <td>3a25c707fae3c6e99fdda40474c3d74be24cc4c3</td>\n",
       "      <td>0</td>\n",
       "      <td>static int mov_read_trak(MOVContext *c, ByteIO...</td>\n",
       "      <td>27272</td>\n",
       "    </tr>\n",
       "    <tr>\n",
       "      <th>2729</th>\n",
       "      <td>FFmpeg</td>\n",
       "      <td>d6604b29ef544793479d7fb4e05ef6622bb3e534</td>\n",
       "      <td>0</td>\n",
       "      <td>static av_cold int libschroedinger_encode_init...</td>\n",
       "      <td>27296</td>\n",
       "    </tr>\n",
       "    <tr>\n",
       "      <th>2730</th>\n",
       "      <td>qemu</td>\n",
       "      <td>a8170e5e97ad17ca169c64ba87ae2f53850dab4c</td>\n",
       "      <td>0</td>\n",
       "      <td>static struct omap_mcbsp_s *omap_mcbsp_init(Me...</td>\n",
       "      <td>27311</td>\n",
       "    </tr>\n",
       "    <tr>\n",
       "      <th>2731</th>\n",
       "      <td>FFmpeg</td>\n",
       "      <td>7104c23bd1a1dcb8a7d9e2c8838c7ce55c30a331</td>\n",
       "      <td>0</td>\n",
       "      <td>static void rv34_pred_mv(RV34DecContext *r, in...</td>\n",
       "      <td>27317</td>\n",
       "    </tr>\n",
       "  </tbody>\n",
       "</table>\n",
       "<p>2732 rows × 5 columns</p>\n",
       "</div>"
      ],
      "text/plain": [
       "     project                                 commit_id  target  \\\n",
       "0     FFmpeg  32bf6550cb9cc9f487a6722fe2bfc272a93c1065       0   \n",
       "1       qemu  c0c24b95542bc1a4dc3fc6ea71475ae04fa69189       1   \n",
       "2     FFmpeg  5ff998a233d759d0de83ea6f95c383d03d25d88e       1   \n",
       "3       qemu  24408a7d2b459bed3697367b81ada76518ca96ef       0   \n",
       "4     FFmpeg  68f593b48433842f3407586679fe07f3e5199ab9       0   \n",
       "...      ...                                       ...     ...   \n",
       "2727    qemu  04088adbe0c5adca66adb6022723362ad90ed0fc       0   \n",
       "2728  FFmpeg  3a25c707fae3c6e99fdda40474c3d74be24cc4c3       0   \n",
       "2729  FFmpeg  d6604b29ef544793479d7fb4e05ef6622bb3e534       0   \n",
       "2730    qemu  a8170e5e97ad17ca169c64ba87ae2f53850dab4c       0   \n",
       "2731  FFmpeg  7104c23bd1a1dcb8a7d9e2c8838c7ce55c30a331       0   \n",
       "\n",
       "                                                   func    idx  \n",
       "0     int ff_get_wav_header(AVFormatContext *s, AVIO...      3  \n",
       "1     static int xen_9pfs_connect(struct XenDevice *...     12  \n",
       "2     static int subframe_count_exact(FlacEncodeCont...     35  \n",
       "3     static void ppc_spapr_init(QEMUMachineInitArgs...     43  \n",
       "4     static int mpeg1_decode_sequence(AVCodecContex...     60  \n",
       "...                                                 ...    ...  \n",
       "2727  static void *mpc8544_load_device_tree(target_p...  27266  \n",
       "2728  static int mov_read_trak(MOVContext *c, ByteIO...  27272  \n",
       "2729  static av_cold int libschroedinger_encode_init...  27296  \n",
       "2730  static struct omap_mcbsp_s *omap_mcbsp_init(Me...  27311  \n",
       "2731  static void rv34_pred_mv(RV34DecContext *r, in...  27317  \n",
       "\n",
       "[2732 rows x 5 columns]"
      ]
     },
     "execution_count": 17,
     "metadata": {},
     "output_type": "execute_result"
    }
   ],
   "source": [
    "test_set"
   ]
  },
  {
   "cell_type": "code",
   "execution_count": 24,
   "metadata": {},
   "outputs": [],
   "source": [
    "data_and_label_txt_file = \".\\\\dataset\\\\test2.txt\"\n",
    "with open(data_and_label_txt_file, 'w', encoding = 'utf-8') as f:\n",
    "    for index, row in test_set.iterrows():\n",
    "        line = f\"{row['idx']} {row['target']}\\n\"\n",
    "        f.write(line)"
   ]
  },
  {
   "cell_type": "code",
   "execution_count": null,
   "metadata": {},
   "outputs": [],
   "source": []
  }
 ],
 "metadata": {
  "kernelspec": {
   "display_name": "Multi_Modal_VD",
   "language": "python",
   "name": "python3"
  },
  "language_info": {
   "codemirror_mode": {
    "name": "ipython",
    "version": 3
   },
   "file_extension": ".py",
   "mimetype": "text/x-python",
   "name": "python",
   "nbconvert_exporter": "python",
   "pygments_lexer": "ipython3",
   "version": "3.8.1"
  }
 },
 "nbformat": 4,
 "nbformat_minor": 4
}
